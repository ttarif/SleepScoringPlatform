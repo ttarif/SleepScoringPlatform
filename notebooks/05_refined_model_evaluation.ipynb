{
 "cells": [
  {
   "cell_type": "markdown",
   "id": "6e4b1136",
   "metadata": {},
   "source": [
    "# 05_Refined_Model_Evaluation\n",
    "This notebook serves to show the accuracy of the refined model, and how it is better than just one individual setting for the generated features.\n",
    "\n",
    "### Prerequisites:\n",
    "- `make refined_model` - if you haven't already run the prerequisites, this will run\n",
    "    - `make download`\n",
    "    - `make features`\n",
    "    - `make extended_features`\n",
    "    \n",
    "### Purpose:\n",
    "The purpose of the refined model is to provide some of the functionality of the extended model (including features calculated with multiple hyperparameter settings and epoch sizes), while not including every setting that is used for the extended model, because calculating that for multiple different edf's is time consuming and memory-intensive. The idea behind the refined model is to look at each sleep state separately—Active Waking, Quiet Waking, Drowsiness, SWS, and REM—and include the single best epoch & welch setting for EEG and ECG for each of them. In this way, you are getting some of the benefit of including the same features calculated at multiple different settings (for example maybe a power spectral density window a.k.a. welch size of 16 seconds is better to predict active waking, but a welch size of 1 second is better for predicting drowsiness), while saving time in only calculating the features 5 times instead of the ~40 different settings used for the extended model."
   ]
  },
  {
   "cell_type": "code",
   "execution_count": 10,
   "id": "74a954cd",
   "metadata": {},
   "outputs": [],
   "source": [
    "import pandas as pd\n",
    "import pytz"
   ]
  },
  {
   "cell_type": "code",
   "execution_count": 11,
   "id": "73f735f6",
   "metadata": {},
   "outputs": [],
   "source": [
    "import sys\n",
    "sys.path.insert(0, '..')\n",
    "import src.models.build_model_LGBM as bmodel\n",
    "import src.models.build_extended_model_LGBM as emodel"
   ]
  },
  {
   "cell_type": "code",
   "execution_count": 12,
   "id": "bced871f",
   "metadata": {},
   "outputs": [
    {
     "name": "stdout",
     "output_type": "stream",
     "text": [
      "The autoreload extension is already loaded. To reload it, use:\n",
      "  %reload_ext autoreload\n"
     ]
    }
   ],
   "source": [
    "%load_ext autoreload\n",
    "%autoreload 2"
   ]
  },
  {
   "cell_type": "markdown",
   "id": "323d137b",
   "metadata": {},
   "source": [
    "## Load features dataframes"
   ]
  },
  {
   "cell_type": "code",
   "execution_count": 13,
   "id": "33ba46b8",
   "metadata": {},
   "outputs": [],
   "source": [
    "# PST timezone\n",
    "pst_timezone = pytz.timezone('America/Los_Angeles')\n",
    "\n",
    "# Load features\n",
    "basic_features_df = pd.read_csv(\n",
    "    '../data/processed/features/test12_Wednesday_07_features_with_labels.csv', index_col=0\n",
    ")\n",
    "refined_features_df = pd.read_csv(\n",
    "    '../data/processed/features/test12_Wednesday_08_refined_features_with_labels_v3.csv', index_col=0\n",
    ")\n",
    "\n",
    "\n",
    "# Set index as DatetimeIndex\n",
    "basic_features_df.index = pd.DatetimeIndex(basic_features_df.index, tz=pst_timezone)\n",
    "refined_features_df.index = pd.DatetimeIndex(refined_features_df.index, tz=pst_timezone)"
   ]
  },
  {
   "cell_type": "code",
   "execution_count": 16,
   "id": "f97bf17c",
   "metadata": {},
   "outputs": [],
   "source": [
    "with open ('../reports/results/refined_model_included_settings.txt', 'r') as f:\n",
    "    custom_settings = [setting.strip('\\n') for setting in f.readlines()]"
   ]
  },
  {
   "cell_type": "code",
   "execution_count": 17,
   "id": "9c945414",
   "metadata": {},
   "outputs": [
    {
     "data": {
      "text/plain": [
       "['EPOCH_128_WELCH_1_EEG',\n",
       " 'EPOCH_128_WELCH_16_EEG',\n",
       " 'EPOCH_128_WELCH_4_EEG',\n",
       " 'EPOCH_64_WELCH_4_EEG',\n",
       " 'EPOCH_32_WELCH_1_EEG',\n",
       " 'EPOCH_512_WELCH_512_HR',\n",
       " 'EPOCH_256_WELCH_64_HR',\n",
       " 'EPOCH_256_WELCH_256_HR',\n",
       " 'EPOCH_512_WELCH_256_HR',\n",
       " 'EPOCH_512_WELCH_64_HR']"
      ]
     },
     "execution_count": 17,
     "metadata": {},
     "output_type": "execute_result"
    }
   ],
   "source": [
    "custom_settings"
   ]
  },
  {
   "cell_type": "markdown",
   "id": "108109e1",
   "metadata": {},
   "source": [
    "## Basic model"
   ]
  },
  {
   "cell_type": "code",
   "execution_count": 18,
   "id": "52215ad5",
   "metadata": {},
   "outputs": [
    {
     "name": "stdout",
     "output_type": "stream",
     "text": [
      "Fold 1/5\n",
      "[LightGBM] [Warning] Found whitespace in feature_names, replace with underlines\n",
      "Fold 2/5\n",
      "[LightGBM] [Warning] Found whitespace in feature_names, replace with underlines\n",
      "Fold 3/5\n",
      "[LightGBM] [Warning] Found whitespace in feature_names, replace with underlines\n",
      "Fold 4/5\n",
      "[LightGBM] [Warning] Found whitespace in feature_names, replace with underlines\n",
      "Fold 5/5\n",
      "[LightGBM] [Warning] Found whitespace in feature_names, replace with underlines\n",
      "Overall accuracy: 76.43%\n",
      "\n",
      "Mean class accuracies across folds:\n",
      "Active Waking    90.47\n",
      "Drowsiness       40.38\n",
      "Quiet Waking     52.35\n",
      "REM              57.86\n",
      "SWS              81.62\n",
      "Unscorable        0.00\n",
      "dtype: float64\n",
      "\n",
      "Overall confusion matrix:\n",
      "                      Predicted_Active_Waking    Predicted_Quiet_Waking    Predicted_Drowsiness    Predicted_SWS    Predicted_REM    Predicted_Unscorable\n",
      "------------------  -------------------------  ------------------------  ----------------------  ---------------  ---------------  ----------------------\n",
      "True_Active_Waking                     122471                      7029                    1367             3429              135                       0\n",
      "True_Quiet_Waking                       12522                     21715                    3056             2162             2751                       0\n",
      "True_Drowsiness                          3039                      5077                   12007             1861              348                       0\n",
      "True_SWS                                 6388                      3930                    1069            46137              401                       0\n",
      "True_REM                                 1357                      5592                     211             1286            22898                       0\n",
      "True_Unscorable                          6150                       180                      22              102                0                       0\n"
     ]
    }
   ],
   "source": [
    "accs, class_accs, conf_matrs, conf_matr = bmodel.evaluate_model(basic_features_df, 'Simple.Sleep.Code',\n",
    "                                                                verbosity=0)"
   ]
  },
  {
   "cell_type": "code",
   "execution_count": 20,
   "id": "8ad56b55",
   "metadata": {},
   "outputs": [
    {
     "data": {
      "text/html": [
       "<div>\n",
       "<style scoped>\n",
       "    .dataframe tbody tr th:only-of-type {\n",
       "        vertical-align: middle;\n",
       "    }\n",
       "\n",
       "    .dataframe tbody tr th {\n",
       "        vertical-align: top;\n",
       "    }\n",
       "\n",
       "    .dataframe thead th {\n",
       "        text-align: right;\n",
       "    }\n",
       "</style>\n",
       "<table border=\"1\" class=\"dataframe\">\n",
       "  <thead>\n",
       "    <tr style=\"text-align: right;\">\n",
       "      <th></th>\n",
       "      <th>Predicted_Active_Waking</th>\n",
       "      <th>Predicted_Quiet_Waking</th>\n",
       "      <th>Predicted_Drowsiness</th>\n",
       "      <th>Predicted_SWS</th>\n",
       "      <th>Predicted_REM</th>\n",
       "      <th>Predicted_Unscorable</th>\n",
       "    </tr>\n",
       "  </thead>\n",
       "  <tbody>\n",
       "    <tr>\n",
       "      <th>True_Active_Waking</th>\n",
       "      <td>122471</td>\n",
       "      <td>7029</td>\n",
       "      <td>1367</td>\n",
       "      <td>3429</td>\n",
       "      <td>135</td>\n",
       "      <td>0</td>\n",
       "    </tr>\n",
       "    <tr>\n",
       "      <th>True_Quiet_Waking</th>\n",
       "      <td>12522</td>\n",
       "      <td>21715</td>\n",
       "      <td>3056</td>\n",
       "      <td>2162</td>\n",
       "      <td>2751</td>\n",
       "      <td>0</td>\n",
       "    </tr>\n",
       "    <tr>\n",
       "      <th>True_Drowsiness</th>\n",
       "      <td>3039</td>\n",
       "      <td>5077</td>\n",
       "      <td>12007</td>\n",
       "      <td>1861</td>\n",
       "      <td>348</td>\n",
       "      <td>0</td>\n",
       "    </tr>\n",
       "    <tr>\n",
       "      <th>True_SWS</th>\n",
       "      <td>6388</td>\n",
       "      <td>3930</td>\n",
       "      <td>1069</td>\n",
       "      <td>46137</td>\n",
       "      <td>401</td>\n",
       "      <td>0</td>\n",
       "    </tr>\n",
       "    <tr>\n",
       "      <th>True_REM</th>\n",
       "      <td>1357</td>\n",
       "      <td>5592</td>\n",
       "      <td>211</td>\n",
       "      <td>1286</td>\n",
       "      <td>22898</td>\n",
       "      <td>0</td>\n",
       "    </tr>\n",
       "    <tr>\n",
       "      <th>True_Unscorable</th>\n",
       "      <td>6150</td>\n",
       "      <td>180</td>\n",
       "      <td>22</td>\n",
       "      <td>102</td>\n",
       "      <td>0</td>\n",
       "      <td>0</td>\n",
       "    </tr>\n",
       "  </tbody>\n",
       "</table>\n",
       "</div>"
      ],
      "text/plain": [
       "                    Predicted_Active_Waking  Predicted_Quiet_Waking  \\\n",
       "True_Active_Waking                   122471                    7029   \n",
       "True_Quiet_Waking                     12522                   21715   \n",
       "True_Drowsiness                        3039                    5077   \n",
       "True_SWS                               6388                    3930   \n",
       "True_REM                               1357                    5592   \n",
       "True_Unscorable                        6150                     180   \n",
       "\n",
       "                    Predicted_Drowsiness  Predicted_SWS  Predicted_REM  \\\n",
       "True_Active_Waking                  1367           3429            135   \n",
       "True_Quiet_Waking                   3056           2162           2751   \n",
       "True_Drowsiness                    12007           1861            348   \n",
       "True_SWS                            1069          46137            401   \n",
       "True_REM                             211           1286          22898   \n",
       "True_Unscorable                       22            102              0   \n",
       "\n",
       "                    Predicted_Unscorable  \n",
       "True_Active_Waking                     0  \n",
       "True_Quiet_Waking                      0  \n",
       "True_Drowsiness                        0  \n",
       "True_SWS                               0  \n",
       "True_REM                               0  \n",
       "True_Unscorable                        0  "
      ]
     },
     "execution_count": 20,
     "metadata": {},
     "output_type": "execute_result"
    }
   ],
   "source": [
    "conf_matr"
   ]
  },
  {
   "cell_type": "markdown",
   "id": "429c6c01",
   "metadata": {},
   "source": [
    "## Refined model"
   ]
  },
  {
   "cell_type": "code",
   "execution_count": 21,
   "id": "3230177f",
   "metadata": {},
   "outputs": [
    {
     "name": "stdout",
     "output_type": "stream",
     "text": [
      "Fold 1/5\n",
      "[LightGBM] [Warning] Found whitespace in feature_names, replace with underlines\n",
      "Fold 2/5\n",
      "[LightGBM] [Warning] Found whitespace in feature_names, replace with underlines\n",
      "Fold 3/5\n",
      "[LightGBM] [Warning] Found whitespace in feature_names, replace with underlines\n",
      "Fold 4/5\n",
      "[LightGBM] [Warning] Found whitespace in feature_names, replace with underlines\n",
      "Fold 5/5\n",
      "[LightGBM] [Warning] Found whitespace in feature_names, replace with underlines\n",
      "Overall accuracy: 80.06%\n",
      "\n",
      "Mean class accuracies across folds:\n",
      "Active Waking    92.79\n",
      "Drowsiness       47.39\n",
      "Quiet Waking     56.86\n",
      "REM              62.60\n",
      "SWS              84.12\n",
      "Unscorable        0.00\n",
      "dtype: float64\n",
      "\n",
      "Overall confusion matrix:\n",
      "                      Predicted_Active_Waking    Predicted_Quiet_Waking    Predicted_Drowsiness    Predicted_SWS    Predicted_REM    Predicted_Unscorable\n",
      "------------------  -------------------------  ------------------------  ----------------------  ---------------  ---------------  ----------------------\n",
      "True_Active_Waking                     125908                      6338                     657             1309              219                       0\n",
      "True_Quiet_Waking                       11990                     23455                    3410             1208             2143                       0\n",
      "True_Drowsiness                          2090                      5096                   13804             1277               65                       0\n",
      "True_SWS                                 4567                      3265                    1180            48050              863                       0\n",
      "True_REM                                 1119                      4091                      51             1383            24700                       0\n",
      "True_Unscorable                          6311                       114                      29                0                0                       0\n"
     ]
    }
   ],
   "source": [
    "accs_ref, class_accs_ref, conf_matrs_ref, conf_matr_ref = bmodel.evaluate_model(refined_features_df,\n",
    "                                                                                'Simple.Sleep.Code',\n",
    "                                                                                verbosity=0)"
   ]
  },
  {
   "cell_type": "code",
   "execution_count": 22,
   "id": "ca919d87",
   "metadata": {},
   "outputs": [
    {
     "data": {
      "text/html": [
       "<div>\n",
       "<style scoped>\n",
       "    .dataframe tbody tr th:only-of-type {\n",
       "        vertical-align: middle;\n",
       "    }\n",
       "\n",
       "    .dataframe tbody tr th {\n",
       "        vertical-align: top;\n",
       "    }\n",
       "\n",
       "    .dataframe thead th {\n",
       "        text-align: right;\n",
       "    }\n",
       "</style>\n",
       "<table border=\"1\" class=\"dataframe\">\n",
       "  <thead>\n",
       "    <tr style=\"text-align: right;\">\n",
       "      <th></th>\n",
       "      <th>Predicted_Active_Waking</th>\n",
       "      <th>Predicted_Quiet_Waking</th>\n",
       "      <th>Predicted_Drowsiness</th>\n",
       "      <th>Predicted_SWS</th>\n",
       "      <th>Predicted_REM</th>\n",
       "      <th>Predicted_Unscorable</th>\n",
       "    </tr>\n",
       "  </thead>\n",
       "  <tbody>\n",
       "    <tr>\n",
       "      <th>True_Active_Waking</th>\n",
       "      <td>125908</td>\n",
       "      <td>6338</td>\n",
       "      <td>657</td>\n",
       "      <td>1309</td>\n",
       "      <td>219</td>\n",
       "      <td>0</td>\n",
       "    </tr>\n",
       "    <tr>\n",
       "      <th>True_Quiet_Waking</th>\n",
       "      <td>11990</td>\n",
       "      <td>23455</td>\n",
       "      <td>3410</td>\n",
       "      <td>1208</td>\n",
       "      <td>2143</td>\n",
       "      <td>0</td>\n",
       "    </tr>\n",
       "    <tr>\n",
       "      <th>True_Drowsiness</th>\n",
       "      <td>2090</td>\n",
       "      <td>5096</td>\n",
       "      <td>13804</td>\n",
       "      <td>1277</td>\n",
       "      <td>65</td>\n",
       "      <td>0</td>\n",
       "    </tr>\n",
       "    <tr>\n",
       "      <th>True_SWS</th>\n",
       "      <td>4567</td>\n",
       "      <td>3265</td>\n",
       "      <td>1180</td>\n",
       "      <td>48050</td>\n",
       "      <td>863</td>\n",
       "      <td>0</td>\n",
       "    </tr>\n",
       "    <tr>\n",
       "      <th>True_REM</th>\n",
       "      <td>1119</td>\n",
       "      <td>4091</td>\n",
       "      <td>51</td>\n",
       "      <td>1383</td>\n",
       "      <td>24700</td>\n",
       "      <td>0</td>\n",
       "    </tr>\n",
       "    <tr>\n",
       "      <th>True_Unscorable</th>\n",
       "      <td>6311</td>\n",
       "      <td>114</td>\n",
       "      <td>29</td>\n",
       "      <td>0</td>\n",
       "      <td>0</td>\n",
       "      <td>0</td>\n",
       "    </tr>\n",
       "  </tbody>\n",
       "</table>\n",
       "</div>"
      ],
      "text/plain": [
       "                    Predicted_Active_Waking  Predicted_Quiet_Waking  \\\n",
       "True_Active_Waking                   125908                    6338   \n",
       "True_Quiet_Waking                     11990                   23455   \n",
       "True_Drowsiness                        2090                    5096   \n",
       "True_SWS                               4567                    3265   \n",
       "True_REM                               1119                    4091   \n",
       "True_Unscorable                        6311                     114   \n",
       "\n",
       "                    Predicted_Drowsiness  Predicted_SWS  Predicted_REM  \\\n",
       "True_Active_Waking                   657           1309            219   \n",
       "True_Quiet_Waking                   3410           1208           2143   \n",
       "True_Drowsiness                    13804           1277             65   \n",
       "True_SWS                            1180          48050            863   \n",
       "True_REM                              51           1383          24700   \n",
       "True_Unscorable                       29              0              0   \n",
       "\n",
       "                    Predicted_Unscorable  \n",
       "True_Active_Waking                     0  \n",
       "True_Quiet_Waking                      0  \n",
       "True_Drowsiness                        0  \n",
       "True_SWS                               0  \n",
       "True_REM                               0  \n",
       "True_Unscorable                        0  "
      ]
     },
     "execution_count": 22,
     "metadata": {},
     "output_type": "execute_result"
    }
   ],
   "source": [
    "conf_matr_ref"
   ]
  },
  {
   "cell_type": "code",
   "execution_count": null,
   "id": "19818ef7",
   "metadata": {},
   "outputs": [],
   "source": []
  }
 ],
 "metadata": {
  "kernelspec": {
   "display_name": "Python 3 (ipykernel)",
   "language": "python",
   "name": "python3"
  },
  "language_info": {
   "codemirror_mode": {
    "name": "ipython",
    "version": 3
   },
   "file_extension": ".py",
   "mimetype": "text/x-python",
   "name": "python",
   "nbconvert_exporter": "python",
   "pygments_lexer": "ipython3",
   "version": "3.10.9"
  }
 },
 "nbformat": 4,
 "nbformat_minor": 5
}
